{
 "cells": [
  {
   "cell_type": "code",
   "execution_count": null,
   "metadata": {},
   "outputs": [],
   "source": [
    "import cv2\n",
    "import numpy as np\n",
    "import matplotlib.pyplot as plt"
   ]
  },
  {
   "cell_type": "code",
   "execution_count": null,
   "metadata": {},
   "outputs": [],
   "source": [
    "def max_filtering(N, I_temp):\n",
    "    wall = np.full((I_temp.shape[0]+(N//2)*2, I_temp.shape[1]+(N//2)*2), -1)\n",
    "    wall[(N//2):wall.shape[0]-(N//2), (N//2):wall.shape[1]-(N//2)] = I_temp.copy()\n",
    "    temp = np.full((I_temp.shape[0]+(N//2)*2, I_temp.shape[1]+(N//2)*2), -1)\n",
    "    for y in range(0,wall.shape[0]):\n",
    "        for x in range(0,wall.shape[1]):\n",
    "            if wall[y,x]!=-1:\n",
    "                window = wall[y-(N//2):y+(N//2)+1,x-(N//2):x+(N//2)+1]\n",
    "                num = np.amax(window)\n",
    "                temp[y,x] = num\n",
    "    A = temp[(N//2):wall.shape[0]-(N//2), (N//2):wall.shape[1]-(N//2)].copy()\n",
    "    return A"
   ]
  },
  {
   "cell_type": "code",
   "execution_count": null,
   "metadata": {},
   "outputs": [],
   "source": [
    "def min_filtering(N, A):\n",
    "    wall_min = np.full((A.shape[0]+(N//2)*2, A.shape[1]+(N//2)*2), 300)\n",
    "    wall_min[(N//2):wall_min.shape[0]-(N//2), (N//2):wall_min.shape[1]-(N//2)] = A.copy()\n",
    "    temp_min = np.full((A.shape[0]+(N//2)*2, A.shape[1]+(N//2)*2), 300)\n",
    "    for y in range(0,wall_min.shape[0]):\n",
    "        for x in range(0,wall_min.shape[1]):\n",
    "            if wall_min[y,x]!=300:\n",
    "                window_min = wall_min[y-(N//2):y+(N//2)+1,x-(N//2):x+(N//2)+1]\n",
    "                num_min = np.amin(window_min)\n",
    "                temp_min[y,x] = num_min\n",
    "    B = temp_min[(N//2):wall_min.shape[0]-(N//2), (N//2):wall_min.shape[1]-(N//2)].copy()\n",
    "    return B"
   ]
  },
  {
   "cell_type": "code",
   "execution_count": null,
   "metadata": {},
   "outputs": [],
   "source": [
    "def background_subtraction(I, B):\n",
    "    O = I - B\n",
    "    norm_img = cv2.normalize(O, None, 0,255, norm_type=cv2.NORM_MINMAX)\n",
    "    return norm_img\n",
    "\n",
    "def min_max_filtering(M, N, I):\n",
    "    if M == 0:\n",
    "        #max_filtering\n",
    "        A = max_filtering(N, I)\n",
    "        #min_filtering\n",
    "        B = min_filtering(N, A)\n",
    "        #subtraction\n",
    "        normalised_img = background_subtraction(I, B)\n",
    "    elif M == 1:\n",
    "        #min_filtering\n",
    "        A = min_filtering(N, I)\n",
    "        #max_filtering\n",
    "        B = max_filtering(N, A)\n",
    "        #subtraction\n",
    "        normalised_img = background_subtraction(I, B)\n",
    "    return normalised_img"
   ]
  },
  {
   "cell_type": "code",
   "execution_count": null,
   "metadata": {},
   "outputs": [],
   "source": [
    "P = cv2.imread('C:\\Users\\Abhishek Kumar\\Desktop\\Project\\Code\\img.jpg',0)\n",
    "plt.imshow(P,cmap='gray')\n",
    "plt.title(\"original image\")\n",
    "plt.show()                                                                                                 "
   ]
  },
  {
   "cell_type": "code",
   "execution_count": null,
   "metadata": {},
   "outputs": [],
   "source": [
    "O_P = min_max_filtering(M = 0, N = 20, I = P)\n",
    "\n",
    "\n",
    "#Display final output\n",
    "plt.imshow(O_P, cmap = 'gray')\n",
    "plt.title(\"Final output\")\n",
    "plt.show()"
   ]
  },
  {
   "cell_type": "code",
   "execution_count": null,
   "metadata": {},
   "outputs": [],
   "source": []
  }
 ],
 "metadata": {
  "kernelspec": {
   "display_name": "Python 3",
   "language": "python",
   "name": "python3"
  },
  "language_info": {
   "codemirror_mode": {
    "name": "ipython",
    "version": 3
   },
   "file_extension": ".py",
   "mimetype": "text/x-python",
   "name": "python",
   "nbconvert_exporter": "python",
   "pygments_lexer": "ipython3",
   "version": "3.6.8"
  }
 },
 "nbformat": 4,
 "nbformat_minor": 2
}
